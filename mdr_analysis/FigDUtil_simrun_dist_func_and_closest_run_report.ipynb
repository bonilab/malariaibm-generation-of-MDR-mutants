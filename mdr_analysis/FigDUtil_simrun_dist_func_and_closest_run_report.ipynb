{
 "cells": [
  {
   "cell_type": "code",
   "execution_count": 1,
   "metadata": {},
   "outputs": [],
   "source": [
    "import os\n",
    "from constants import HEADER_NAME, ENCODINGDB, ENCODING_TO_MN_DICT\n",
    "import pandas as pd\n",
    "import numpy as np"
   ]
  },
  {
   "cell_type": "code",
   "execution_count": 2,
   "metadata": {},
   "outputs": [],
   "source": [
    "def find_closest_run_to_median_triple(dflist, pattern):\n",
    "  array_filtered_sum_each_run = []\n",
    "  for onerun in dflist:\n",
    "    array_filtered_sum_each_run.append(\n",
    "      onerun.filter(regex=pattern, axis=1).sum(axis=1)\n",
    "    )\n",
    "  np_array_filtered_sum_each_run = np.array(array_filtered_sum_each_run)\n",
    "  df_IQR = pd.DataFrame(np_array_filtered_sum_each_run)\n",
    "  assert(df_IQR.shape == (100, 361))\n",
    "  # calculate median across 100 runs\n",
    "  # shape=(361,) which is the median run\n",
    "  # that has 361 reporting points/months (including burn-in)\n",
    "  df_list_median = df_IQR.astype('float').quantile(0.5).values # type: np array\n",
    "  assert(df_list_median.shape == (361,))\n",
    "  # take every one of the 100 runs\n",
    "  # to subtract to median run and take absolute value\n",
    "  abs_diff_each_run_each_time = np.absolute(\n",
    "    np.subtract(np_array_filtered_sum_each_run, df_list_median)\n",
    "  )\n",
    "  assert(abs_diff_each_run_each_time.shape == (100, 361))\n",
    "  return np.sum(abs_diff_each_run_each_time, axis=1)"
   ]
  },
  {
   "cell_type": "code",
   "execution_count": 3,
   "metadata": {},
   "outputs": [],
   "source": [
    "def find_closest_run_to_median_double(dflist, act_name):\n",
    "  assert(act_name in ['DHA-PPQ', 'ASAQ', 'AL'])\n",
    "  most_dang_double_type = '2-2' if act_name == 'DHA-PPQ' else '2-4'\n",
    "  array_filtered_sum_each_run = []\n",
    "  for onerun in dflist:\n",
    "    renamed_df = onerun.rename(columns=ENCODING_TO_MN_DICT[act_name])\n",
    "    renamed_df = renamed_df.groupby(renamed_df.columns, axis=1).sum()\n",
    "    array_filtered_sum_each_run.append(\n",
    "      renamed_df[most_dang_double_type].values\n",
    "    )\n",
    "  np_array_filtered_sum_each_run = np.array(array_filtered_sum_each_run)\n",
    "  df_IQR = pd.DataFrame(np_array_filtered_sum_each_run)\n",
    "  assert(df_IQR.shape == (100, 361))\n",
    "  # calculate median across 100 runs\n",
    "  # shape=(361,) which is the median run\n",
    "  # that has 361 reporting points/months (including burn-in)\n",
    "  df_list_median = df_IQR.astype('float').quantile(0.5).values # type: np array\n",
    "  assert(df_list_median.shape == (361,))\n",
    "  # take every one of the 100 runs\n",
    "  # to subtract to median run and take absolute value\n",
    "  abs_diff_each_run_each_time = np.absolute(\n",
    "    np.subtract(np_array_filtered_sum_each_run, df_list_median)\n",
    "  )\n",
    "  assert(abs_diff_each_run_each_time.shape == (100, 361))\n",
    "  return np.sum(abs_diff_each_run_each_time, axis=1)"
   ]
  },
  {
   "cell_type": "code",
   "execution_count": 4,
   "metadata": {},
   "outputs": [],
   "source": [
    "def find_closest_run_to_median_five_dang_types(dflist):\n",
    "  total_abs_diff = find_closest_run_to_median_triple(dflist, 'TYY..Y2.')\n",
    "  total_abs_diff = total_abs_diff + find_closest_run_to_median_triple(dflist, 'KNF..Y2.')\n",
    "  total_abs_diff = total_abs_diff + find_closest_run_to_median_double(dflist, 'DHA-PPQ')\n",
    "  total_abs_diff = total_abs_diff + find_closest_run_to_median_double(dflist, 'ASAQ')\n",
    "  total_abs_diff = total_abs_diff + find_closest_run_to_median_double(dflist, 'AL')\n",
    "    \n",
    "  min_val = np.min(total_abs_diff)\n",
    "  min_idx = np.argmin(total_abs_diff) + 1 # naming of run is 1-100\n",
    "  return (min_idx, min_val)"
   ]
  },
  {
   "cell_type": "code",
   "execution_count": 9,
   "metadata": {},
   "outputs": [],
   "source": [
    "def onestep(filepath):\n",
    "  dflist = []\n",
    "  for i in range(1,101):\n",
    "    df = pd.read_csv(\n",
    "      os.path.join(filepath, f'{i}.txt'), index_col=False, names=HEADER_NAME, sep='\\t'\n",
    "    ).fillna(0).filter(items=ENCODINGDB)\n",
    "    assert df.shape == (361, 128)\n",
    "    dflist.append(df)\n",
    "  result = find_closest_run_to_median_five_dang_types(dflist)\n",
    "  print('-----')\n",
    "  print(f'filpath = {filepath}')\n",
    "  print(f'the closest run is #{result[0]}')\n",
    "  print(f'with val={result[1]}')\n",
    "  return result[0]"
   ]
  },
  {
   "cell_type": "markdown",
   "metadata": {},
   "source": [
    "Figure 6 - set 7, 5-yr-cycling"
   ]
  },
  {
   "cell_type": "code",
   "execution_count": 10,
   "metadata": {},
   "outputs": [
    {
     "name": "stdout",
     "output_type": "stream",
     "text": [
      "-----\n",
      "filpath = simulation_outputs/set7_c/monthly\n",
      "the closest run is #4\n",
      "with val=1.3157963537500001\n"
     ]
    },
    {
     "data": {
      "text/plain": [
       "4"
      ]
     },
     "execution_count": 10,
     "metadata": {},
     "output_type": "execute_result"
    }
   ],
   "source": [
    "onestep('simulation_outputs/set7_c/monthly')"
   ]
  },
  {
   "cell_type": "markdown",
   "metadata": {},
   "source": [
    "Supplemental Table 2 - set 7, MFT"
   ]
  },
  {
   "cell_type": "code",
   "execution_count": 11,
   "metadata": {},
   "outputs": [
    {
     "name": "stdout",
     "output_type": "stream",
     "text": [
      "-----\n",
      "filpath = simulation_outputs/set7_m/monthly\n",
      "the closest run is #13\n",
      "with val=0.652836191525\n"
     ]
    },
    {
     "data": {
      "text/plain": [
       "13"
      ]
     },
     "execution_count": 11,
     "metadata": {},
     "output_type": "execute_result"
    }
   ],
   "source": [
    "onestep('simulation_outputs/set7_m/monthly')"
   ]
  },
  {
   "cell_type": "markdown",
   "metadata": {},
   "source": [
    "Figure 7 - set 7, Adaptive Cycling"
   ]
  },
  {
   "cell_type": "code",
   "execution_count": 12,
   "metadata": {},
   "outputs": [
    {
     "name": "stdout",
     "output_type": "stream",
     "text": [
      "-----\n",
      "filpath = simulation_outputs/set7_ac/monthly\n",
      "the closest run is #39\n",
      "with val=1.6822495638300001\n"
     ]
    },
    {
     "data": {
      "text/plain": [
       "39"
      ]
     },
     "execution_count": 12,
     "metadata": {},
     "output_type": "execute_result"
    }
   ],
   "source": [
    "onestep('simulation_outputs/set7_ac/monthly')"
   ]
  },
  {
   "cell_type": "code",
   "execution_count": null,
   "metadata": {},
   "outputs": [],
   "source": []
  }
 ],
 "metadata": {
  "kernelspec": {
   "display_name": "Python 3 (ipykernel)",
   "language": "python",
   "name": "python3"
  },
  "language_info": {
   "codemirror_mode": {
    "name": "ipython",
    "version": 3
   },
   "file_extension": ".py",
   "mimetype": "text/x-python",
   "name": "python",
   "nbconvert_exporter": "python",
   "pygments_lexer": "ipython3",
   "version": "3.9.13"
  }
 },
 "nbformat": 4,
 "nbformat_minor": 4
}
