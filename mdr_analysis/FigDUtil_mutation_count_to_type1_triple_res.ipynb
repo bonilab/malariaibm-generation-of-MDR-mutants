{
 "cells": [
  {
   "cell_type": "code",
   "execution_count": 1,
   "id": "f0ad3581",
   "metadata": {},
   "outputs": [],
   "source": [
    "from constants import ENCODINGDB\n",
    "import re"
   ]
  },
  {
   "cell_type": "code",
   "execution_count": 2,
   "id": "84221839",
   "metadata": {},
   "outputs": [],
   "source": [
    "from constant_fig_d_7c_mutpair import fourth_five_yr as cycling_fourth_five_yr"
   ]
  },
  {
   "cell_type": "code",
   "execution_count": 3,
   "id": "a928f8ae",
   "metadata": {},
   "outputs": [],
   "source": [
    "from constant_fig_d_7m_mutpair import fourth_five_yr as mft_fourth_five_yr"
   ]
  },
  {
   "cell_type": "code",
   "execution_count": 4,
   "id": "d3ac0d5a",
   "metadata": {},
   "outputs": [],
   "source": [
    "def count_mutation_to_type1_triple_res(longstr):\n",
    "  count = 0\n",
    "  for line in longstr.splitlines():\n",
    "    if line == '':\n",
    "      continue\n",
    "    systime,fromtype,totype = line.split(',')\n",
    "    totype = ENCODINGDB[int(totype)]\n",
    "    if (re.search(\"^TYY..Y2.$\", totype)):\n",
    "      count += 1\n",
    "  return count"
   ]
  },
  {
   "cell_type": "code",
   "execution_count": 5,
   "id": "0a0dde5a",
   "metadata": {},
   "outputs": [
    {
     "data": {
      "text/plain": [
       "372"
      ]
     },
     "execution_count": 5,
     "metadata": {},
     "output_type": "execute_result"
    }
   ],
   "source": [
    "count_mutation_to_type1_triple_res(cycling_fourth_five_yr)"
   ]
  },
  {
   "cell_type": "code",
   "execution_count": 6,
   "id": "33fb79e4",
   "metadata": {},
   "outputs": [
    {
     "data": {
      "text/plain": [
       "318"
      ]
     },
     "execution_count": 6,
     "metadata": {},
     "output_type": "execute_result"
    }
   ],
   "source": [
    "count_mutation_to_type1_triple_res(mft_fourth_five_yr)"
   ]
  },
  {
   "cell_type": "code",
   "execution_count": null,
   "id": "5e52dbb1",
   "metadata": {},
   "outputs": [],
   "source": []
  }
 ],
 "metadata": {
  "kernelspec": {
   "display_name": "Python 3 (ipykernel)",
   "language": "python",
   "name": "python3"
  },
  "language_info": {
   "codemirror_mode": {
    "name": "ipython",
    "version": 3
   },
   "file_extension": ".py",
   "mimetype": "text/x-python",
   "name": "python",
   "nbconvert_exporter": "python",
   "pygments_lexer": "ipython3",
   "version": "3.9.13"
  }
 },
 "nbformat": 4,
 "nbformat_minor": 5
}
