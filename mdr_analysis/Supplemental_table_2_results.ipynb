{
 "cells": [
  {
   "cell_type": "code",
   "execution_count": 1,
   "id": "8909c4c7",
   "metadata": {},
   "outputs": [],
   "source": [
    "from constants import ENCODINGDB, TARGETED_TYPE1_TRI_LIST, TARGETED_TYPE2_TRI_LIST, \\\n",
    "  TARGETED_TYPE3_DP_DOUBLE_LIST, TARGETED_TYPE4_ASAQ_FULLDOUBLE_LIST, TARGETED_TYPE5_AL_FULLDOUBLE_LIST"
   ]
  },
  {
   "cell_type": "markdown",
   "id": "2e0a404c",
   "metadata": {},
   "source": [
    "5-year cycling strategy"
   ]
  },
  {
   "cell_type": "code",
   "execution_count": 2,
   "id": "ea13fb9d",
   "metadata": {},
   "outputs": [],
   "source": [
    "from constant_fig_d_7c_mutpair import first_five_yr, second_five_yr, third_five_yr, fourth_five_yr"
   ]
  },
  {
   "cell_type": "code",
   "execution_count": 3,
   "id": "56176c2d",
   "metadata": {},
   "outputs": [],
   "source": [
    "def print_mut_counts(longstr, filterlist):\n",
    "  ct = 0\n",
    "  for line in longstr.splitlines():\n",
    "    if line == '':\n",
    "      continue\n",
    "    systime,fromtype,totype = line.split(',')\n",
    "    totype = ENCODINGDB[int(totype)]\n",
    "    if totype in filterlist: ct += 1\n",
    "  print(ct)"
   ]
  },
  {
   "cell_type": "code",
   "execution_count": 4,
   "id": "07c94300",
   "metadata": {
    "scrolled": true
   },
   "outputs": [
    {
     "name": "stdout",
     "output_type": "stream",
     "text": [
      "-----\n",
      "51\n",
      "75\n",
      "83\n",
      "372\n",
      "-----\n",
      "0\n",
      "0\n",
      "0\n",
      "0\n",
      "-----\n",
      "129\n",
      "149\n",
      "224\n",
      "930\n",
      "-----\n",
      "888\n",
      "680\n",
      "841\n",
      "891\n",
      "-----\n",
      "0\n",
      "0\n",
      "0\n",
      "0\n"
     ]
    }
   ],
   "source": [
    "for filterlist in [TARGETED_TYPE1_TRI_LIST, TARGETED_TYPE2_TRI_LIST, \\\n",
    "  TARGETED_TYPE3_DP_DOUBLE_LIST, TARGETED_TYPE4_ASAQ_FULLDOUBLE_LIST, TARGETED_TYPE5_AL_FULLDOUBLE_LIST]:\n",
    "  print('-----')\n",
    "  for yr in [first_five_yr, second_five_yr, third_five_yr, fourth_five_yr]:\n",
    "    print_mut_counts(yr, filterlist)"
   ]
  },
  {
   "cell_type": "markdown",
   "id": "d4f83fd4",
   "metadata": {},
   "source": [
    "MFT strategy"
   ]
  },
  {
   "cell_type": "code",
   "execution_count": 2,
   "id": "c39b0bbb",
   "metadata": {},
   "outputs": [],
   "source": [
    "from constant_fig_d_7m_mutpair import first_five_yr, second_five_yr, third_five_yr, fourth_five_yr"
   ]
  },
  {
   "cell_type": "code",
   "execution_count": 3,
   "id": "05ce3c9a",
   "metadata": {},
   "outputs": [],
   "source": [
    "def print_mut_counts(longstr, filterlist):\n",
    "  ct = 0\n",
    "  for line in longstr.splitlines():\n",
    "    if line == '':\n",
    "      continue\n",
    "    systime,fromtype,totype = line.split(',')\n",
    "    totype = ENCODINGDB[int(totype)]\n",
    "    if totype in filterlist: ct += 1\n",
    "  print(ct)"
   ]
  },
  {
   "cell_type": "code",
   "execution_count": 4,
   "id": "a7518457",
   "metadata": {},
   "outputs": [
    {
     "name": "stdout",
     "output_type": "stream",
     "text": [
      "-----\n",
      "19\n",
      "38\n",
      "123\n",
      "318\n",
      "-----\n",
      "0\n",
      "0\n",
      "0\n",
      "0\n",
      "-----\n",
      "62\n",
      "95\n",
      "300\n",
      "776\n",
      "-----\n",
      "935\n",
      "670\n",
      "897\n",
      "951\n",
      "-----\n",
      "0\n",
      "0\n",
      "0\n",
      "0\n"
     ]
    }
   ],
   "source": [
    "for filterlist in [TARGETED_TYPE1_TRI_LIST, TARGETED_TYPE2_TRI_LIST, \\\n",
    "  TARGETED_TYPE3_DP_DOUBLE_LIST, TARGETED_TYPE4_ASAQ_FULLDOUBLE_LIST, TARGETED_TYPE5_AL_FULLDOUBLE_LIST]:\n",
    "  print('-----')\n",
    "  for yr in [first_five_yr, second_five_yr, third_five_yr, fourth_five_yr]:\n",
    "    print_mut_counts(yr, filterlist)"
   ]
  },
  {
   "cell_type": "code",
   "execution_count": null,
   "id": "6ada82e8",
   "metadata": {},
   "outputs": [],
   "source": []
  }
 ],
 "metadata": {
  "kernelspec": {
   "display_name": "Python 3 (ipykernel)",
   "language": "python",
   "name": "python3"
  },
  "language_info": {
   "codemirror_mode": {
    "name": "ipython",
    "version": 3
   },
   "file_extension": ".py",
   "mimetype": "text/x-python",
   "name": "python",
   "nbconvert_exporter": "python",
   "pygments_lexer": "ipython3",
   "version": "3.9.13"
  }
 },
 "nbformat": 4,
 "nbformat_minor": 5
}
