{
 "cells": [
  {
   "cell_type": "code",
   "execution_count": 1,
   "id": "f0ad3581",
   "metadata": {},
   "outputs": [],
   "source": [
    "from constants import ENCODINGDB\n",
    "import re"
   ]
  },
  {
   "cell_type": "code",
   "execution_count": 2,
   "id": "fffb8e37",
   "metadata": {},
   "outputs": [],
   "source": [
    "from constant_fig_d_7m_mutpair import first_five_yr, second_five_yr, \\\n",
    "  third_five_yr, fourth_five_yr"
   ]
  },
  {
   "cell_type": "code",
   "execution_count": 3,
   "id": "d3ac0d5a",
   "metadata": {},
   "outputs": [],
   "source": [
    "def count_mutation_to_type1_triple_res(longstr):\n",
    "  count = 0\n",
    "  for line in longstr.splitlines():\n",
    "    if line == '':\n",
    "      continue\n",
    "    systime,fromtype,totype = line.split(',')\n",
    "    totype = ENCODINGDB[int(totype)]\n",
    "    if (re.search(\"^TYY..Y2.$\", totype)):\n",
    "      count += 1\n",
    "  return count"
   ]
  },
  {
   "cell_type": "code",
   "execution_count": 4,
   "id": "03ee1ba6",
   "metadata": {},
   "outputs": [],
   "source": [
    "totalct = 0"
   ]
  },
  {
   "cell_type": "code",
   "execution_count": 5,
   "id": "adc30ab2",
   "metadata": {},
   "outputs": [
    {
     "name": "stdout",
     "output_type": "stream",
     "text": [
      "19\n"
     ]
    }
   ],
   "source": [
    "ct = count_mutation_to_type1_triple_res(first_five_yr)\n",
    "print(ct)\n",
    "totalct+=ct"
   ]
  },
  {
   "cell_type": "code",
   "execution_count": 6,
   "id": "afec7085",
   "metadata": {},
   "outputs": [
    {
     "name": "stdout",
     "output_type": "stream",
     "text": [
      "38\n"
     ]
    }
   ],
   "source": [
    "ct = count_mutation_to_type1_triple_res(second_five_yr)\n",
    "print(ct)\n",
    "totalct+=ct"
   ]
  },
  {
   "cell_type": "code",
   "execution_count": 7,
   "id": "c87b47bf",
   "metadata": {},
   "outputs": [
    {
     "name": "stdout",
     "output_type": "stream",
     "text": [
      "123\n"
     ]
    }
   ],
   "source": [
    "ct = count_mutation_to_type1_triple_res(third_five_yr)\n",
    "print(ct)\n",
    "totalct+=ct"
   ]
  },
  {
   "cell_type": "code",
   "execution_count": 8,
   "id": "25bd5631",
   "metadata": {},
   "outputs": [
    {
     "name": "stdout",
     "output_type": "stream",
     "text": [
      "318\n"
     ]
    }
   ],
   "source": [
    "ct = count_mutation_to_type1_triple_res(fourth_five_yr)\n",
    "print(ct)\n",
    "totalct+=ct"
   ]
  },
  {
   "cell_type": "code",
   "execution_count": 9,
   "id": "76be8e11",
   "metadata": {},
   "outputs": [
    {
     "data": {
      "text/plain": [
       "498"
      ]
     },
     "execution_count": 9,
     "metadata": {},
     "output_type": "execute_result"
    }
   ],
   "source": [
    "totalct"
   ]
  },
  {
   "cell_type": "code",
   "execution_count": null,
   "id": "5e52dbb1",
   "metadata": {},
   "outputs": [],
   "source": []
  }
 ],
 "metadata": {
  "kernelspec": {
   "display_name": "Python 3 (ipykernel)",
   "language": "python",
   "name": "python3"
  },
  "language_info": {
   "codemirror_mode": {
    "name": "ipython",
    "version": 3
   },
   "file_extension": ".py",
   "mimetype": "text/x-python",
   "name": "python",
   "nbconvert_exporter": "python",
   "pygments_lexer": "ipython3",
   "version": "3.9.13"
  }
 },
 "nbformat": 4,
 "nbformat_minor": 5
}
