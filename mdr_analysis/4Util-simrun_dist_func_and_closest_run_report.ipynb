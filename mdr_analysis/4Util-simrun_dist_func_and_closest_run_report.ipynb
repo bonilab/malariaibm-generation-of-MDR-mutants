{
 "cells": [
  {
   "cell_type": "code",
   "execution_count": null,
   "metadata": {},
   "outputs": [],
   "source": [
    "import copy\n",
    "from constant import REPORTDAYS, HEADER_NAME, COLUMNS_TO_DROP\n",
    "import pandas as pd\n",
    "import numpy as np\n",
    "from plot_helper import df_col_replace"
   ]
  },
  {
   "cell_type": "code",
   "execution_count": null,
   "metadata": {},
   "outputs": [],
   "source": [
    "def find_closest_run_to_median_triple(dflist, pattern):\n",
    "  df_IQR = pd.DataFrame(columns = range(361)) # 361 rows of data are in output file\n",
    "  for onerun in dflist:\n",
    "    df_IQR = df_IQR.append(onerun.filter(regex=pattern, axis=1).sum(axis=1), ignore_index=True)\n",
    "  # calculate 90% CI and IQR\n",
    "  df_list_median = df_IQR.astype('float').quantile(0.5).values # type: np array\n",
    "  # check abs difference b/w each run and the median\n",
    "  abs_diff_list = []\n",
    "  # go thru 100 separate run\n",
    "  for i in range(100):\n",
    "    # calculate distance to median\n",
    "    abs_diff_list.append(np.sum(np.absolute(df_list_median - df_IQR.iloc[i].values)))\n",
    "  return np.asarray(abs_diff_list)"
   ]
  },
  {
   "cell_type": "code",
   "execution_count": null,
   "metadata": {},
   "outputs": [],
   "source": [
    "def find_closest_run_to_median_double(dflist_arg, drug):\n",
    "  option = 1\n",
    "  dflist = copy.deepcopy(dflist_arg) \n",
    "  for i in range(len(dflist)):\n",
    "    dflist[i] = df_col_replace(dflist[i], drug, option)\n",
    "  most_dang_double = '2-4'\n",
    "  if drug == 'DHA-PPQ': # only count '2-2''s\n",
    "    most_dang_double = '2-2'\n",
    "  df_IQR = pd.DataFrame(columns = range(361)) # 361 rows of data are in output file\n",
    "  for onerun in dflist:\n",
    "    df_IQR = df_IQR.append(onerun[most_dang_double])\n",
    "  # calculate 90% CI and IQR\n",
    "  df_list_median = df_IQR.astype('float').quantile(0.5).values # type: np array\n",
    "  # check abs difference b/w each run and the median\n",
    "  abs_diff_list = []\n",
    "  # go thru 100 separate run\n",
    "  for i in range(100):\n",
    "    # calculate distance to median\n",
    "    abs_diff_list.append(np.sum(np.absolute(df_list_median - df_IQR.iloc[i].values)))\n",
    "  return np.asarray(abs_diff_list)"
   ]
  },
  {
   "cell_type": "code",
   "execution_count": null,
   "metadata": {},
   "outputs": [],
   "source": [
    "def find_closest_run_to_median_five_dang_types(dflist):\n",
    "  total_abs_diff = find_closest_run_to_median_triple(dflist, 'TYY..Y2.')\n",
    "  total_abs_diff = total_abs_diff + find_closest_run_to_median_triple(dflist, 'KNF..Y2.')\n",
    "  total_abs_diff = total_abs_diff + find_closest_run_to_median_double(dflist, 'DHA-PPQ')\n",
    "  total_abs_diff = total_abs_diff + find_closest_run_to_median_double(dflist, 'ASAQ')\n",
    "  total_abs_diff = total_abs_diff + find_closest_run_to_median_double(dflist, 'AL')\n",
    "    \n",
    "  min_val = np.min(total_abs_diff)\n",
    "  min_idx = np.argmin(total_abs_diff) + 1 # naming of run is 1-100\n",
    "  return (min_idx, min_val)"
   ]
  },
  {
   "cell_type": "markdown",
   "metadata": {},
   "source": [
    "Either find for each group of 100 runs"
   ]
  },
  {
   "cell_type": "code",
   "execution_count": null,
   "metadata": {},
   "outputs": [],
   "source": [
    "filepath = 'reversed_cycling_drug_order/set5_c/monthly/set5c_%smonthly_data_0.txt'"
   ]
  },
  {
   "cell_type": "code",
   "execution_count": null,
   "metadata": {},
   "outputs": [],
   "source": [
    "dflist = []\n",
    "for i in range(1,101):\n",
    "  dflist.append(pd.read_csv(filepath % i, index_col=False, names=HEADER_NAME, sep='\\t').drop(columns=COLUMNS_TO_DROP).fillna(0))"
   ]
  },
  {
   "cell_type": "code",
   "execution_count": null,
   "metadata": {},
   "outputs": [],
   "source": [
    "find_closest_run_to_median_five_dang_types(dflist)"
   ]
  },
  {
   "cell_type": "markdown",
   "metadata": {},
   "source": [
    "Or for entire setting"
   ]
  },
  {
   "cell_type": "code",
   "execution_count": null,
   "metadata": {},
   "outputs": [],
   "source": [
    "def onestep(setnum, strategy):\n",
    "  dflist = []\n",
    "  for i in range(1,101):\n",
    "    dflist.append(pd.read_csv(f'raw_data/delayed_drug_switch/set{setnum}{strategy}/monthly/set{setnum}{strategy}_%smonthly_data_0.txt' % i, index_col=False, \\\n",
    "                                  names=HEADER_NAME, sep='\\t').drop(columns=COLUMNS_TO_DROP).fillna(0))\n",
    "  result = find_closest_run_to_median_five_dang_types(dflist)\n",
    "  print(result)\n",
    "  return result[0]"
   ]
  },
  {
   "cell_type": "code",
   "execution_count": null,
   "metadata": {},
   "outputs": [],
   "source": [
    "temp = []\n",
    "for i in range(1,13):\n",
    "  temp.append(onestep(i, '2ac'))"
   ]
  },
  {
   "cell_type": "code",
   "execution_count": null,
   "metadata": {},
   "outputs": [],
   "source": [
    "len(temp)"
   ]
  },
  {
   "cell_type": "code",
   "execution_count": null,
   "metadata": {},
   "outputs": [],
   "source": [
    "temp"
   ]
  }
 ],
 "metadata": {
  "kernelspec": {
   "display_name": "Python 3",
   "language": "python",
   "name": "python3"
  },
  "language_info": {
   "codemirror_mode": {
    "name": "ipython",
    "version": 3
   },
   "file_extension": ".py",
   "mimetype": "text/x-python",
   "name": "python",
   "nbconvert_exporter": "python",
   "pygments_lexer": "ipython3",
   "version": "3.8.5"
  }
 },
 "nbformat": 4,
 "nbformat_minor": 4
}
