{
 "cells": [
  {
   "cell_type": "code",
   "execution_count": 1,
   "metadata": {},
   "outputs": [],
   "source": [
    "from os import listdir\n",
    "from datetime import date\n",
    "import numpy as np"
   ]
  },
  {
   "cell_type": "code",
   "execution_count": 6,
   "metadata": {},
   "outputs": [],
   "source": [
    "allfilenames_set7 = ['raw_data/set7_ac/stdout/'+f for f in listdir('raw_data/set7_ac/stdout')]\n",
    "allfilenames_set5 = ['raw_data/set5_ac/stdout/'+f for f in listdir('raw_data/set5_ac/stdout')]"
   ]
  },
  {
   "cell_type": "code",
   "execution_count": 3,
   "metadata": {},
   "outputs": [],
   "source": [
    "def median_ASAQ_time_calculator(allfilenames):\n",
    "  allAdpCycSwitchTimes = []\n",
    "  for filename in allfilenames:\n",
    "    if filename == 'parser.ipynb' or filename == '.ipynb_checkpoints': continue\n",
    "    with open(filename) as f:\n",
    "      lines = f.readlines()\n",
    "    temp = []\n",
    "    for info in lines:\n",
    "      if 'Cycling Strategy Swith Therapy to:' in info:\n",
    "        # yyyy, mm, dd, therapySwitchedTo\n",
    "        therapySwitchedTo = info[-2:-1]\n",
    "        yyyy, mm, dd = info[17:27].split('-')\n",
    "        temp.append( (yyyy, mm, dd, therapySwitchedTo) )\n",
    "    allAdpCycSwitchTimes.append(temp)\n",
    "  \n",
    "  allDaysASAQInUse = []\n",
    "  for switchList in allAdpCycSwitchTimes:\n",
    "    if len(switchList) == 0: # no switch, ASAQ not in use\n",
    "      allDaysASAQInUse.append(0)\n",
    "      continue\n",
    "    if len(switchList) == 2: # switch twice, ASAQ used in between\n",
    "      st, end = switchList\n",
    "    else: # switched once, ASAQ used until end of simulation\n",
    "      st = switchList[0]\n",
    "      end = ('2040','1','1')\n",
    "    d0 = date(int(st[0]), int(st[1]), int(st[2]))\n",
    "    d1 = date(int(end[0]), int(end[1]), int(end[2]))\n",
    "    delta = d1 - d0\n",
    "    allDaysASAQInUse.append(delta.days / 365)\n",
    "  \n",
    "  assert(len(allDaysASAQInUse)==100)\n",
    "  return np.percentile(allDaysASAQInUse, [25,50,75], interpolation = 'midpoint')"
   ]
  },
  {
   "cell_type": "markdown",
   "metadata": {},
   "source": [
    "Set 7ac, Figure 2 in main paper"
   ]
  },
  {
   "cell_type": "code",
   "execution_count": 7,
   "metadata": {},
   "outputs": [
    {
     "data": {
      "text/plain": [
       "array([6.55205479, 8.00410959, 9.29178082])"
      ]
     },
     "execution_count": 7,
     "metadata": {},
     "output_type": "execute_result"
    }
   ],
   "source": [
    "median_ASAQ_time_calculator(allfilenames_set7)"
   ]
  },
  {
   "cell_type": "markdown",
   "metadata": {},
   "source": [
    "Set 5ac, Figure 3 in main paper"
   ]
  },
  {
   "cell_type": "code",
   "execution_count": 8,
   "metadata": {},
   "outputs": [
    {
     "data": {
      "text/plain": [
       "array([0.32465753, 2.17123288, 5.3260274 ])"
      ]
     },
     "execution_count": 8,
     "metadata": {},
     "output_type": "execute_result"
    }
   ],
   "source": [
    "median_ASAQ_time_calculator(allfilenames_set5)"
   ]
  },
  {
   "cell_type": "code",
   "execution_count": null,
   "metadata": {},
   "outputs": [],
   "source": []
  }
 ],
 "metadata": {
  "kernelspec": {
   "display_name": "Python 3",
   "language": "python",
   "name": "python3"
  },
  "language_info": {
   "codemirror_mode": {
    "name": "ipython",
    "version": 3
   },
   "file_extension": ".py",
   "mimetype": "text/x-python",
   "name": "python",
   "nbconvert_exporter": "python",
   "pygments_lexer": "ipython3",
   "version": "3.8.5"
  }
 },
 "nbformat": 4,
 "nbformat_minor": 4
}
