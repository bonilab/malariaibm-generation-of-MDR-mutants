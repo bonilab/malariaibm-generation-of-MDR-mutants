{
 "cells": [
  {
   "cell_type": "code",
   "execution_count": null,
   "metadata": {},
   "outputs": [],
   "source": [
    "# TODO - to use ENCODINGDB to filter df column\n",
    "# and to use ENCODING_TO_MN_DICT to replace column name"
   ]
  },
  {
   "cell_type": "code",
   "execution_count": 1,
   "metadata": {},
   "outputs": [],
   "source": [
    "from constants import REPORTDAYS, HEADER_NAME, COLUMNS_TO_DROP, FIRST_ROW_AFTER_BURNIN\n",
    "from plot_helper import df_col_replace\n",
    "import pandas as pd\n",
    "import numpy as np\n",
    "\n",
    "import scipy\n",
    "from scipy.stats import mannwhitneyu"
   ]
  },
  {
   "cell_type": "code",
   "execution_count": 2,
   "metadata": {},
   "outputs": [],
   "source": [
    "file_path_adpcyc = 'simulation_outputs/set7_ac/monthly/%s.txt'\n",
    "file_path_mft = 'simulation_outputs/set7_m/monthly/%s.txt'\n",
    "file_path_cyc = 'simulation_outputs/set7_c/monthly/%s.txt'\n",
    "\n",
    "dflist_adpcyc = []\n",
    "dflist_mft = []\n",
    "dflist_cyc = []\n",
    "for i in range(1,101):\n",
    "  dflist_adpcyc.append(pd.read_csv(file_path_adpcyc % i, index_col=False, \\\n",
    "                                   names=HEADER_NAME, sep='\\t').drop(columns=COLUMNS_TO_DROP) \\\n",
    "                                   .iloc[FIRST_ROW_AFTER_BURNIN:])\n",
    "  dflist_mft.append(pd.read_csv(file_path_mft % i, index_col=False, \\\n",
    "                                names=HEADER_NAME, sep='\\t').drop(columns=COLUMNS_TO_DROP) \\\n",
    "                                .iloc[FIRST_ROW_AFTER_BURNIN:])\n",
    "  dflist_cyc.append(pd.read_csv(file_path_cyc % i, index_col=False, \\\n",
    "                                names=HEADER_NAME, sep='\\t').drop(columns=COLUMNS_TO_DROP) \\\n",
    "                                .iloc[FIRST_ROW_AFTER_BURNIN:])\n"
   ]
  },
  {
   "cell_type": "code",
   "execution_count": 3,
   "metadata": {},
   "outputs": [],
   "source": [
    "def findFirstRow(li):\n",
    "  for idx,num in enumerate(li):\n",
    "    if num >= 0.01:\n",
    "      return idx\n",
    "  return 400-FIRST_ROW_AFTER_BURNIN"
   ]
  },
  {
   "cell_type": "markdown",
   "metadata": {},
   "source": [
    "Row #1"
   ]
  },
  {
   "cell_type": "code",
   "execution_count": 4,
   "metadata": {},
   "outputs": [],
   "source": [
    "ans_ac = []\n",
    "for df in dflist_adpcyc:\n",
    "  li = df.filter(regex='TYY..Y2.', axis=1).sum(axis=1).values\n",
    "  ans_ac.append(findFirstRow(li))"
   ]
  },
  {
   "cell_type": "code",
   "execution_count": 5,
   "metadata": {},
   "outputs": [],
   "source": [
    "ans_m = []\n",
    "for df in dflist_mft:\n",
    "  li = df.filter(regex='TYY..Y2.', axis=1).sum(axis=1).values\n",
    "  ans_m.append(findFirstRow(li))"
   ]
  },
  {
   "cell_type": "code",
   "execution_count": 6,
   "metadata": {},
   "outputs": [],
   "source": [
    "ans_c = []\n",
    "for df in dflist_cyc:\n",
    "  li = df.filter(regex='TYY..Y2.', axis=1).sum(axis=1).values\n",
    "  ans_c.append(findFirstRow(li))"
   ]
  },
  {
   "cell_type": "code",
   "execution_count": 7,
   "metadata": {},
   "outputs": [
    {
     "data": {
      "text/plain": [
       "MannwhitneyuResult(statistic=77.5, pvalue=1.2403190371893852e-33)"
      ]
     },
     "execution_count": 7,
     "metadata": {},
     "output_type": "execute_result"
    }
   ],
   "source": [
    "mannwhitneyu(ans_ac, ans_m)"
   ]
  },
  {
   "cell_type": "code",
   "execution_count": 8,
   "metadata": {},
   "outputs": [
    {
     "data": {
      "text/plain": [
       "MannwhitneyuResult(statistic=4020.5, pvalue=0.008356654013968363)"
      ]
     },
     "execution_count": 8,
     "metadata": {},
     "output_type": "execute_result"
    }
   ],
   "source": [
    "mannwhitneyu(ans_c, ans_m)"
   ]
  },
  {
   "cell_type": "markdown",
   "metadata": {},
   "source": [
    "Row #4"
   ]
  },
  {
   "cell_type": "code",
   "execution_count": 9,
   "metadata": {},
   "outputs": [],
   "source": [
    "ans_ac_row4 = []\n",
    "for df in dflist_adpcyc:\n",
    "  li = df_col_replace(df, 'ASAQ', option=1)['2-4'].values\n",
    "  ans_ac_row4.append(findFirstRow(li))"
   ]
  },
  {
   "cell_type": "code",
   "execution_count": 10,
   "metadata": {},
   "outputs": [],
   "source": [
    "ans_m_row4 = []\n",
    "for df in dflist_mft:\n",
    "  li = df_col_replace(df, 'ASAQ', option=1)['2-4'].values\n",
    "  ans_m_row4.append(findFirstRow(li))"
   ]
  },
  {
   "cell_type": "code",
   "execution_count": 11,
   "metadata": {},
   "outputs": [],
   "source": [
    "ans_c_row4 = []\n",
    "for df in dflist_cyc:\n",
    "  li = df_col_replace(df, 'ASAQ', option=1)['2-4'].values\n",
    "  ans_c_row4.append(findFirstRow(li))"
   ]
  },
  {
   "cell_type": "code",
   "execution_count": 12,
   "metadata": {
    "scrolled": true
   },
   "outputs": [
    {
     "data": {
      "text/plain": [
       "MannwhitneyuResult(statistic=476.0, pvalue=1.0536863641805283e-28)"
      ]
     },
     "execution_count": 12,
     "metadata": {},
     "output_type": "execute_result"
    }
   ],
   "source": [
    "mannwhitneyu(ans_ac_row4, ans_m_row4)"
   ]
  },
  {
   "cell_type": "code",
   "execution_count": 14,
   "metadata": {},
   "outputs": [
    {
     "data": {
      "text/plain": [
       "MannwhitneyuResult(statistic=2522.5, pvalue=7.1184415580628e-10)"
      ]
     },
     "execution_count": 14,
     "metadata": {},
     "output_type": "execute_result"
    }
   ],
   "source": [
    "mannwhitneyu(ans_c_row4, ans_m_row4)"
   ]
  },
  {
   "cell_type": "markdown",
   "metadata": {},
   "source": [
    "Row #3"
   ]
  },
  {
   "cell_type": "code",
   "execution_count": 4,
   "metadata": {},
   "outputs": [],
   "source": [
    "ans_ac_row3 = []\n",
    "for df in dflist_adpcyc:\n",
    "  li = df_col_replace(df, 'DHA-PPQ', option=1)['2-2'].values\n",
    "  ans_ac_row3.append(findFirstRow(li))"
   ]
  },
  {
   "cell_type": "code",
   "execution_count": 5,
   "metadata": {},
   "outputs": [],
   "source": [
    "ans_m_row3 = []\n",
    "for df in dflist_mft:\n",
    "  li = df_col_replace(df, 'DHA-PPQ', option=1)['2-2'].values\n",
    "  ans_m_row3.append(findFirstRow(li))"
   ]
  },
  {
   "cell_type": "code",
   "execution_count": 6,
   "metadata": {},
   "outputs": [],
   "source": [
    "ans_c_row3 = []\n",
    "for df in dflist_cyc:\n",
    "  li = df_col_replace(df, 'DHA-PPQ', option=1)['2-2'].values\n",
    "  ans_c_row3.append(findFirstRow(li))"
   ]
  },
  {
   "cell_type": "code",
   "execution_count": 7,
   "metadata": {
    "scrolled": true
   },
   "outputs": [
    {
     "data": {
      "text/plain": [
       "MannwhitneyuResult(statistic=25.0, pvalue=2.673280720111787e-34)"
      ]
     },
     "execution_count": 7,
     "metadata": {},
     "output_type": "execute_result"
    }
   ],
   "source": [
    "mannwhitneyu(ans_ac_row3, ans_m_row3)"
   ]
  },
  {
   "cell_type": "code",
   "execution_count": 8,
   "metadata": {},
   "outputs": [
    {
     "data": {
      "text/plain": [
       "MannwhitneyuResult(statistic=4579.0, pvalue=0.1520594085126808)"
      ]
     },
     "execution_count": 8,
     "metadata": {},
     "output_type": "execute_result"
    }
   ],
   "source": [
    "mannwhitneyu(ans_c_row3, ans_m_row3)"
   ]
  },
  {
   "cell_type": "code",
   "execution_count": null,
   "metadata": {},
   "outputs": [],
   "source": []
  }
 ],
 "metadata": {
  "kernelspec": {
   "display_name": "Python 3",
   "language": "python",
   "name": "python3"
  },
  "language_info": {
   "codemirror_mode": {
    "name": "ipython",
    "version": 3
   },
   "file_extension": ".py",
   "mimetype": "text/x-python",
   "name": "python",
   "nbconvert_exporter": "python",
   "pygments_lexer": "ipython3",
   "version": "3.8.5"
  }
 },
 "nbformat": 4,
 "nbformat_minor": 4
}
