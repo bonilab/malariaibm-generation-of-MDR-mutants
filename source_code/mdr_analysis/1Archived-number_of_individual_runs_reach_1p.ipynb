{
 "cells": [
  {
   "cell_type": "markdown",
   "metadata": {},
   "source": [
    "# Reporting script for Fig. 1"
   ]
  },
  {
   "cell_type": "code",
   "execution_count": 1,
   "metadata": {},
   "outputs": [],
   "source": [
    "from constant import REPORTDAYS, HEADER_NAME, COLUMNS_TO_DROP\n",
    "from plot_helper import df_col_replace\n",
    "import pandas as pd\n",
    "import numpy as np\n",
    "\n",
    "# path to 100 simulation outputs (panel B/D/F)\n",
    "file_path_adpcyc = 'raw_data/set7_ac/monthly/set7ac_%smonthly_data_0.txt'\n",
    "# path to ac outputs, with alternative initial genotypes (panel H)\n",
    "file_path_aac = 'raw_data/alt_init_geno/set7_aac/monthly/set7aac_%smonthly_data_0.txt'"
   ]
  },
  {
   "cell_type": "code",
   "execution_count": 2,
   "metadata": {},
   "outputs": [],
   "source": [
    "dflist = []\n",
    "for i in range(1,101):\n",
    "  dflist.append(pd.read_csv(file_path_adpcyc % i, index_col=False, \\\n",
    "                            names=HEADER_NAME, sep='\\t').drop(columns=COLUMNS_TO_DROP))"
   ]
  },
  {
   "cell_type": "code",
   "execution_count": 41,
   "metadata": {},
   "outputs": [],
   "source": [
    "dflist_aac = []\n",
    "for i in range(1,101):\n",
    "  dflist_aac.append(pd.read_csv(file_path_aac % i, index_col=False, \\\n",
    "                            names=HEADER_NAME, sep='\\t').drop(columns=COLUMNS_TO_DROP))"
   ]
  },
  {
   "cell_type": "markdown",
   "metadata": {},
   "source": [
    "**Panel 1B DHA-PPQ** - how many runs (out of 100) have reached 1%, with IQR and 90% range reported"
   ]
  },
  {
   "cell_type": "code",
   "execution_count": 19,
   "metadata": {},
   "outputs": [],
   "source": [
    "panel_B = []\n",
    "for df in dflist:\n",
    "  temp = df_col_replace(df, 'DHA-PPQ', option=1)\n",
    "  temp['row_num'] = np.arange(len(temp))\n",
    "  panel_B.append(temp[temp['2-2']>0.01].iloc[0,-1])"
   ]
  },
  {
   "cell_type": "code",
   "execution_count": 39,
   "metadata": {},
   "outputs": [],
   "source": [
    "assert len(panel_B) == 100"
   ]
  },
  {
   "cell_type": "code",
   "execution_count": 24,
   "metadata": {
    "scrolled": true
   },
   "outputs": [
    {
     "name": "stdout",
     "output_type": "stream",
     "text": [
      "median = 7.125\n"
     ]
    }
   ],
   "source": [
    "print('median =', np.quantile(panel_B, 0.5)/12-10) # show in years, excl. burn-in"
   ]
  },
  {
   "cell_type": "code",
   "execution_count": 26,
   "metadata": {},
   "outputs": [
    {
     "name": "stdout",
     "output_type": "stream",
     "text": [
      "IQR = 6.25 - 7.833333333333332\n"
     ]
    }
   ],
   "source": [
    "IQR_low = np.quantile(panel_B, 0.25)/12-10\n",
    "IQR_high = np.quantile(panel_B, 0.75)/12-10\n",
    "print(f'IQR = {IQR_low} - {IQR_high}')"
   ]
  },
  {
   "cell_type": "code",
   "execution_count": 28,
   "metadata": {},
   "outputs": [
    {
     "name": "stdout",
     "output_type": "stream",
     "text": [
      "90p Range = 5.4125 - 8.833333333333332\n"
     ]
    }
   ],
   "source": [
    "p90_low = np.quantile(panel_B, 0.05)/12-10\n",
    "p90_high = np.quantile(panel_B, 0.95)/12-10\n",
    "print(f'90p Range = {p90_low} - {p90_high}')"
   ]
  },
  {
   "cell_type": "markdown",
   "metadata": {},
   "source": [
    "**Panel 1D ASAQ**"
   ]
  },
  {
   "cell_type": "code",
   "execution_count": 29,
   "metadata": {},
   "outputs": [],
   "source": [
    "panel_D = []\n",
    "for df in dflist:\n",
    "  temp = df_col_replace(df, 'ASAQ', option=1)\n",
    "  temp['row_num'] = np.arange(len(temp))\n",
    "  panel_D.append(temp[temp['2-4']>0.01].iloc[0,-1])"
   ]
  },
  {
   "cell_type": "code",
   "execution_count": 38,
   "metadata": {},
   "outputs": [],
   "source": [
    "assert len(panel_D) == 100"
   ]
  },
  {
   "cell_type": "code",
   "execution_count": 30,
   "metadata": {
    "scrolled": true
   },
   "outputs": [
    {
     "name": "stdout",
     "output_type": "stream",
     "text": [
      "median = 8.25\n"
     ]
    }
   ],
   "source": [
    "print('median =', np.quantile(panel_D, 0.5)/12-10) # show in years, excl. burn-in"
   ]
  },
  {
   "cell_type": "code",
   "execution_count": 31,
   "metadata": {},
   "outputs": [
    {
     "name": "stdout",
     "output_type": "stream",
     "text": [
      "IQR = 7.3125 - 9.104166666666668\n"
     ]
    }
   ],
   "source": [
    "IQR_low = np.quantile(panel_D, 0.25)/12-10\n",
    "IQR_high = np.quantile(panel_D, 0.75)/12-10\n",
    "print(f'IQR = {IQR_low} - {IQR_high}')"
   ]
  },
  {
   "cell_type": "code",
   "execution_count": 32,
   "metadata": {},
   "outputs": [
    {
     "name": "stdout",
     "output_type": "stream",
     "text": [
      "90p Range = 5.733333333333334 - 10.675\n"
     ]
    }
   ],
   "source": [
    "p90_low = np.quantile(panel_D, 0.05)/12-10\n",
    "p90_high = np.quantile(panel_D, 0.95)/12-10\n",
    "print(f'90p Range = {p90_low} - {p90_high}')"
   ]
  },
  {
   "cell_type": "markdown",
   "metadata": {},
   "source": [
    "**Panel 1F AL** - how many out of these 100 runs have reached over 1%"
   ]
  },
  {
   "cell_type": "code",
   "execution_count": 42,
   "metadata": {},
   "outputs": [],
   "source": [
    "panel_F_count = 0\n",
    "for df in dflist:\n",
    "  temp = df_col_replace(df, 'AL', option=1)\n",
    "  if len(temp[temp['2-4']>0.01]) != 0:\n",
    "    panel_F_count += 1"
   ]
  },
  {
   "cell_type": "code",
   "execution_count": 43,
   "metadata": {},
   "outputs": [
    {
     "data": {
      "text/plain": [
       "0"
      ]
     },
     "execution_count": 43,
     "metadata": {},
     "output_type": "execute_result"
    }
   ],
   "source": [
    "panel_F_count"
   ]
  },
  {
   "cell_type": "markdown",
   "metadata": {},
   "source": [
    "**Panel 1F AL alternative initial genotypes**"
   ]
  },
  {
   "cell_type": "code",
   "execution_count": 44,
   "metadata": {},
   "outputs": [],
   "source": [
    "panel_H_count = 0\n",
    "for df in dflist_aac:\n",
    "  temp = df_col_replace(df, 'AL', option=1)\n",
    "  if len(temp[temp['2-4']>0.01]) != 0:\n",
    "    panel_H_count += 1"
   ]
  },
  {
   "cell_type": "code",
   "execution_count": 45,
   "metadata": {},
   "outputs": [
    {
     "data": {
      "text/plain": [
       "0"
      ]
     },
     "execution_count": 45,
     "metadata": {},
     "output_type": "execute_result"
    }
   ],
   "source": [
    "panel_H_count"
   ]
  },
  {
   "cell_type": "code",
   "execution_count": null,
   "metadata": {},
   "outputs": [],
   "source": []
  }
 ],
 "metadata": {
  "kernelspec": {
   "display_name": "Python 3",
   "language": "python",
   "name": "python3"
  },
  "language_info": {
   "codemirror_mode": {
    "name": "ipython",
    "version": 3
   },
   "file_extension": ".py",
   "mimetype": "text/x-python",
   "name": "python",
   "nbconvert_exporter": "python",
   "pygments_lexer": "ipython3",
   "version": "3.8.5"
  }
 },
 "nbformat": 4,
 "nbformat_minor": 4
}
