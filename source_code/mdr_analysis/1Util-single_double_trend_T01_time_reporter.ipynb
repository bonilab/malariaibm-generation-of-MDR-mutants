{
 "cells": [
  {
   "cell_type": "code",
   "execution_count": 1,
   "metadata": {},
   "outputs": [],
   "source": [
    "from constant import HEADER_NAME, COLUMNS_TO_DROP, REPORTDAYS, FIRST_ROW_AFTER_BURNIN\n",
    "import pandas as pd\n",
    "from plot_helper import coloring_legend, df_col_replace\n",
    "import copy\n",
    "import numpy as np"
   ]
  },
  {
   "cell_type": "code",
   "execution_count": 2,
   "metadata": {},
   "outputs": [],
   "source": [
    "def t01_and_1_reporter(dflist_arg, drug, mdr_tag):\n",
    "  global REPORTDAYS, FIRST_ROW_AFTER_BURNIN\n",
    "  def calculate_for_one(data):\n",
    "    idx_one_percent = -1\n",
    "    idx_ten_percent = -1\n",
    "    for idx,val in enumerate(data):\n",
    "      if val > 0.01:\n",
    "        idx_one_percent = idx\n",
    "        break\n",
    "    for idx,val in enumerate(data):\n",
    "      if val > 0.1:\n",
    "        idx_ten_percent = idx\n",
    "        break\n",
    "    return idx_one_percent, idx_ten_percent\n",
    "  \n",
    "  t_onep = []\n",
    "  t_tenp = []\n",
    "  POSTBURNIN_REPORTDAYS = REPORTDAYS[FIRST_ROW_AFTER_BURNIN:]\n",
    "  dflist = copy.deepcopy(dflist_arg)\n",
    "  for i in range(len(dflist)):\n",
    "    dflist[i] = df_col_replace(dflist[i], drug, option=1)\n",
    "    dflist[i] = dflist[i].iloc[FIRST_ROW_AFTER_BURNIN:]\n",
    "    dflist[i].reset_index(drop=True, inplace=True)\n",
    "    idx_one_percent, idx_ten_percent = calculate_for_one(dflist[i][mdr_tag])\n",
    "    if idx_one_percent == -1: t_onep.append(float('inf'))\n",
    "    else: t_onep.append(POSTBURNIN_REPORTDAYS[idx_one_percent])\n",
    "    if idx_ten_percent == -1: t_tenp.append(float('inf'))\n",
    "    else: t_tenp.append(POSTBURNIN_REPORTDAYS[idx_ten_percent])\n",
    "  \n",
    "  # IQR, convert to year after burn-in\n",
    "  print(np.quantile(t_onep, [0.025, 0.25, 0.5, 0.75, 0.99975]) / 365 - 10)\n",
    "  print(np.quantile(t_tenp, [0.025, 0.25, 0.5, 0.75, 0.99975]) / 365 - 10)"
   ]
  },
  {
   "cell_type": "code",
   "execution_count": 3,
   "metadata": {},
   "outputs": [],
   "source": [
    "# path to 100 simulation outputs\n",
    "file_path_adpcyc = 'raw_data/set7_ac/monthly/set7ac_%smonthly_data_0.txt'\n",
    "# path to ac outputs, with alternative initial genotypes\n",
    "file_path_aac = 'raw_data/alt_init_geno/set7_aac/monthly/set7aac_%smonthly_data_0.txt'"
   ]
  },
  {
   "cell_type": "code",
   "execution_count": 4,
   "metadata": {},
   "outputs": [],
   "source": [
    "dflist = []\n",
    "for i in range(1,101):\n",
    "  dflist.append(pd.read_csv(file_path_adpcyc % i, index_col=False, \\\n",
    "                            names=HEADER_NAME, sep='\\t').drop(columns=COLUMNS_TO_DROP))"
   ]
  },
  {
   "cell_type": "code",
   "execution_count": 5,
   "metadata": {},
   "outputs": [],
   "source": [
    "dflist_aac = []\n",
    "for i in range(1,101):\n",
    "  dflist_aac.append(pd.read_csv(file_path_aac % i, index_col=False, \\\n",
    "                            names=HEADER_NAME, sep='\\t').drop(columns=COLUMNS_TO_DROP))"
   ]
  },
  {
   "cell_type": "code",
   "execution_count": 6,
   "metadata": {},
   "outputs": [
    {
     "name": "stdout",
     "output_type": "stream",
     "text": [
      "[ 4.96356164  6.26027397  7.1369863   7.84657534 12.15543425]\n",
      "[ 8.17541096 11.76506849 14.55753425 16.55753425         inf]\n"
     ]
    }
   ],
   "source": [
    "# row 1, '2-2' circles\n",
    "t01_and_1_reporter(dflist, 'DHA-PPQ', '2-2')"
   ]
  },
  {
   "cell_type": "code",
   "execution_count": 7,
   "metadata": {},
   "outputs": [
    {
     "name": "stdout",
     "output_type": "stream",
     "text": [
      "[ 5.16287671  7.32191781  8.26027397  9.11780822 12.74173562]\n",
      "[ 9.53876712 13.17808219 14.85068493 16.36917808 19.9245774 ]\n"
     ]
    }
   ],
   "source": [
    "# row 2, '2-4' circles\n",
    "t01_and_1_reporter(dflist, 'ASAQ', '2-4')"
   ]
  },
  {
   "cell_type": "code",
   "execution_count": 8,
   "metadata": {},
   "outputs": [
    {
     "name": "stdout",
     "output_type": "stream",
     "text": [
      "[ 5.50684932  6.76164384  7.55205479  8.42739726 16.72175959]\n",
      "[12.38554795 15.81027397 18.85479452         inf         inf]\n"
     ]
    }
   ],
   "source": [
    "# row 3, '2-2' triangles\n",
    "t01_and_1_reporter(dflist, 'AL', '2-2')"
   ]
  },
  {
   "cell_type": "code",
   "execution_count": 9,
   "metadata": {},
   "outputs": [
    {
     "name": "stdout",
     "output_type": "stream",
     "text": [
      "[ 5.54438356  7.34246575  8.21780822  9.42739726 16.42020479]\n",
      "[ 9.76164384 13.40890411 15.51506849 17.76712329         inf]\n"
     ]
    }
   ],
   "source": [
    "# row 4, '2-2' triangles\n",
    "t01_and_1_reporter(dflist_aac, 'AL', '2-2')"
   ]
  },
  {
   "cell_type": "code",
   "execution_count": null,
   "metadata": {},
   "outputs": [],
   "source": []
  }
 ],
 "metadata": {
  "kernelspec": {
   "display_name": "Python 3",
   "language": "python",
   "name": "python3"
  },
  "language_info": {
   "codemirror_mode": {
    "name": "ipython",
    "version": 3
   },
   "file_extension": ".py",
   "mimetype": "text/x-python",
   "name": "python",
   "nbconvert_exporter": "python",
   "pygments_lexer": "ipython3",
   "version": "3.8.5"
  }
 },
 "nbformat": 4,
 "nbformat_minor": 4
}
