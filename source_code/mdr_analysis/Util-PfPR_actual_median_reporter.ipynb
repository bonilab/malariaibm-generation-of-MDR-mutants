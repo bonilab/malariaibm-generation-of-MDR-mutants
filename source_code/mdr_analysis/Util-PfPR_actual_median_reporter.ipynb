{
 "cells": [
  {
   "cell_type": "code",
   "execution_count": 1,
   "metadata": {},
   "outputs": [],
   "source": [
    "from constant import REPORTDAYS, HEADER_NAME, COLUMNS_TO_DROP\n",
    "import pandas as pd\n",
    "import numpy as np"
   ]
  },
  {
   "cell_type": "code",
   "execution_count": 2,
   "metadata": {},
   "outputs": [
    {
     "name": "stdout",
     "output_type": "stream",
     "text": [
      "=== Set = 1: ===\n",
      "Median bsp2_10 = 0.1547045\n",
      "Median bsp0_5 = 0.1534255\n",
      "=== Set = 2: ===\n",
      "Median bsp2_10 = 0.9025880000000001\n",
      "Median bsp0_5 = 0.904285\n",
      "=== Set = 3: ===\n",
      "Median bsp2_10 = 5.379899999999999\n",
      "Median bsp0_5 = 5.865264999999999\n",
      "=== Set = 4: ===\n",
      "Median bsp2_10 = 28.6552\n",
      "Median bsp0_5 = 36.06635\n",
      "=== Set = 5: ===\n",
      "Median bsp2_10 = 0.151554\n",
      "Median bsp0_5 = 0.15293400000000001\n",
      "=== Set = 6: ===\n",
      "Median bsp2_10 = 0.9039445000000002\n",
      "Median bsp0_5 = 0.9026464999999999\n",
      "=== Set = 7: ===\n",
      "Median bsp2_10 = 5.380895000000001\n",
      "Median bsp0_5 = 5.86505\n",
      "=== Set = 8: ===\n",
      "Median bsp2_10 = 28.63315\n",
      "Median bsp0_5 = 36.0744\n",
      "=== Set = 9: ===\n",
      "Median bsp2_10 = 0.15710849999999998\n",
      "Median bsp0_5 = 0.156844\n",
      "=== Set = 10: ===\n",
      "Median bsp2_10 = 0.9017995\n",
      "Median bsp0_5 = 0.89947\n",
      "=== Set = 11: ===\n",
      "Median bsp2_10 = 5.36974\n",
      "Median bsp0_5 = 5.863675000000001\n",
      "=== Set = 12: ===\n",
      "Median bsp2_10 = 28.64165\n",
      "Median bsp0_5 = 36.07225\n"
     ]
    }
   ],
   "source": [
    "all_set_bsp2_10 = []\n",
    "all_set_bsp0_5 = []\n",
    "\n",
    "for setnum in range(1,13):\n",
    "  print(f'=== Set = {setnum}: ===')\n",
    "  \n",
    "  file_path_cyc = 'set%s_c/monthly/set%s' %(setnum,setnum) + 'c_%smonthly_data_0.txt'\n",
    "  file_path_mft = 'set%s_m/monthly/set%s' %(setnum,setnum) + 'm_%smonthly_data_0.txt'\n",
    "  file_path_adpcyc = 'set%s_ac/monthly/set%s' %(setnum,setnum) + 'ac_%smonthly_data_0.txt'\n",
    "  all_bsp2_10 = []\n",
    "  all_bsp0_5 = []\n",
    "  for i in range(1,101):\n",
    "    df1 = pd.read_csv(file_path_cyc % i, index_col=False, \\\n",
    "                                names=HEADER_NAME, sep='\\t')\n",
    "    temp1,temp2 = df1[['bsp_2_10','bsp_0_5']].iloc[120,:].values\n",
    "    all_bsp2_10.append(temp1)\n",
    "    all_bsp0_5.append(temp2)\n",
    "  for i in range(1,101):\n",
    "    df1 = pd.read_csv(file_path_mft % i, index_col=False, \\\n",
    "                                names=HEADER_NAME, sep='\\t')\n",
    "    temp1,temp2 = df1[['bsp_2_10','bsp_0_5']].iloc[120,:].values\n",
    "    all_bsp2_10.append(temp1)\n",
    "    all_bsp0_5.append(temp2)\n",
    "  for i in range(1,101):\n",
    "    df1 = pd.read_csv(file_path_adpcyc % i, index_col=False, \\\n",
    "                                names=HEADER_NAME, sep='\\t')\n",
    "    temp1,temp2 = df1[['bsp_2_10','bsp_0_5']].iloc[120,:].values\n",
    "    all_bsp2_10.append(temp1)\n",
    "    all_bsp0_5.append(temp2)\n",
    "  print('Median bsp2_10 =', np.median(all_bsp2_10))\n",
    "  print('Median bsp0_5 =', np.median(all_bsp0_5))\n",
    "  all_set_bsp2_10.append(all_bsp2_10)\n",
    "  all_set_bsp0_5.append(all_bsp0_5)"
   ]
  },
  {
   "cell_type": "code",
   "execution_count": null,
   "metadata": {},
   "outputs": [],
   "source": []
  }
 ],
 "metadata": {
  "kernelspec": {
   "display_name": "Python 3",
   "language": "python",
   "name": "python3"
  },
  "language_info": {
   "codemirror_mode": {
    "name": "ipython",
    "version": 3
   },
   "file_extension": ".py",
   "mimetype": "text/x-python",
   "name": "python",
   "nbconvert_exporter": "python",
   "pygments_lexer": "ipython3",
   "version": "3.8.5"
  }
 },
 "nbformat": 4,
 "nbformat_minor": 4
}
