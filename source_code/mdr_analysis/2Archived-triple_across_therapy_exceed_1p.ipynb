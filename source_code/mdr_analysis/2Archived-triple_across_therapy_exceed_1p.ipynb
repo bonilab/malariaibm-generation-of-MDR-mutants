{
 "cells": [
  {
   "cell_type": "markdown",
   "metadata": {},
   "source": [
    "# Reporting script for panel 1C"
   ]
  },
  {
   "cell_type": "markdown",
   "metadata": {},
   "source": [
    "Report how many, out of the 100 simulations, at year #20 has exceed 1% genotype frequency"
   ]
  },
  {
   "cell_type": "code",
   "execution_count": 1,
   "metadata": {},
   "outputs": [],
   "source": [
    "from constant import REPORTDAYS, HEADER_NAME, COLUMNS_TO_DROP\n",
    "from plot_helper import df_col_replace\n",
    "import pandas as pd\n",
    "import numpy as np"
   ]
  },
  {
   "cell_type": "markdown",
   "metadata": {},
   "source": [
    "Col 3, AdpCyc"
   ]
  },
  {
   "cell_type": "code",
   "execution_count": 2,
   "metadata": {},
   "outputs": [],
   "source": [
    "file_path_adpcyc = 'raw_data/set5_ac/monthly/set5ac_%smonthly_data_0.txt'\n",
    "\n",
    "dflist_adpcyc = []\n",
    "for i in range(1,101):\n",
    "  dflist_adpcyc.append(pd.read_csv(file_path_adpcyc % i, index_col=False, \\\n",
    "                                names=HEADER_NAME, sep='\\t').drop(columns=COLUMNS_TO_DROP))"
   ]
  },
  {
   "cell_type": "markdown",
   "metadata": {},
   "source": [
    "Row 1, 'TYY..Y2.'"
   ]
  },
  {
   "cell_type": "code",
   "execution_count": 12,
   "metadata": {},
   "outputs": [],
   "source": [
    "count = 0\n",
    "for df in dflist_adpcyc:\n",
    "  geno_freq_every_month = df.filter(regex='TYY..Y2.', axis=1).sum(axis=1).values\n",
    "  if geno_freq_every_month[-1] > 0.01:\n",
    "    count += 1"
   ]
  },
  {
   "cell_type": "code",
   "execution_count": 13,
   "metadata": {},
   "outputs": [
    {
     "data": {
      "text/plain": [
       "24"
      ]
     },
     "execution_count": 13,
     "metadata": {},
     "output_type": "execute_result"
    }
   ],
   "source": [
    "count"
   ]
  }
 ],
 "metadata": {
  "kernelspec": {
   "display_name": "Python 3",
   "language": "python",
   "name": "python3"
  },
  "language_info": {
   "codemirror_mode": {
    "name": "ipython",
    "version": 3
   },
   "file_extension": ".py",
   "mimetype": "text/x-python",
   "name": "python",
   "nbconvert_exporter": "python",
   "pygments_lexer": "ipython3",
   "version": "3.8.5"
  }
 },
 "nbformat": 4,
 "nbformat_minor": 4
}
