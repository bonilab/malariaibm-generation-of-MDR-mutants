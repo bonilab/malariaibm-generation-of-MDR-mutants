{
 "cells": [
  {
   "cell_type": "code",
   "execution_count": 1,
   "metadata": {},
   "outputs": [],
   "source": [
    "import pandas as pd\n",
    "import numpy as np\n",
    "import matplotlib.pyplot as plt\n",
    "from constant import HEADER_NAME, COLUMNS_TO_DROP"
   ]
  },
  {
   "cell_type": "code",
   "execution_count": 2,
   "metadata": {},
   "outputs": [],
   "source": [
    "m7 = pd.read_csv('set7m_12monthly_data_0.txt', index_col=False, names=HEADER_NAME, sep='\\t').drop(columns=COLUMNS_TO_DROP)\n",
    "c7 = pd.read_csv('set7c_14monthly_data_0.txt', index_col=False, names=HEADER_NAME, sep='\\t').drop(columns=COLUMNS_TO_DROP)\n",
    "cr7 = pd.read_csv('set7cr_100monthly_data_0.txt', index_col=False, names=HEADER_NAME, sep='\\t').drop(columns=COLUMNS_TO_DROP)"
   ]
  },
  {
   "cell_type": "code",
   "execution_count": 3,
   "metadata": {},
   "outputs": [],
   "source": [
    "def calcl_si_val(nparray):\n",
    "  log = np.log(nparray)\n",
    "  log[log == np.NINF] = 0\n",
    "  si = -np.sum(nparray*log)\n",
    "  mysum = np.sum(nparray)\n",
    "  assert round(mysum) == 1\n",
    "  return si"
   ]
  },
  {
   "cell_type": "code",
   "execution_count": 4,
   "metadata": {},
   "outputs": [],
   "source": [
    "si_calc_time = list(range(120,360,30))"
   ]
  },
  {
   "cell_type": "code",
   "execution_count": 5,
   "metadata": {},
   "outputs": [
    {
     "name": "stderr",
     "output_type": "stream",
     "text": [
      "<ipython-input-3-7c45e5438851>:2: RuntimeWarning: divide by zero encountered in log\n",
      "  log = np.log(nparray)\n"
     ]
    }
   ],
   "source": [
    "si_mft = []\n",
    "si_cyc = []\n",
    "si_cyc_rev = []\n",
    "\n",
    "for i in si_calc_time:\n",
    "  si_mft.append(calcl_si_val(m7.iloc[i,:].values))\n",
    "  si_cyc.append(calcl_si_val(c7.iloc[i,:].values))\n",
    "  si_cyc_rev.append(calcl_si_val(cr7.iloc[i,:].values))"
   ]
  },
  {
   "cell_type": "markdown",
   "metadata": {},
   "source": [
    "Plot"
   ]
  },
  {
   "cell_type": "code",
   "execution_count": 6,
   "metadata": {},
   "outputs": [
    {
     "data": {
      "text/plain": [
       "<matplotlib.legend.Legend at 0x7fa9046bb5e0>"
      ]
     },
     "execution_count": 6,
     "metadata": {},
     "output_type": "execute_result"
    },
    {
     "data": {
      "image/png": "[encoded data removed]",
      "text/plain": [
       "<Figure size 432x288 with 1 Axes>"
      ]
     },
     "metadata": {
      "needs_background": "light"
     },
     "output_type": "display_data"
    }
   ],
   "source": [
    "plt.scatter(si_calc_time, si_mft, label='MFT')\n",
    "plt.scatter(si_calc_time, si_cyc, label='5-Year Cycling')\n",
    "plt.scatter(si_calc_time, si_cyc_rev, label='Reversed 5-Year Cycling')\n",
    "plt.title('TBD 4Figb')\n",
    "plt.xlabel('Month')\n",
    "plt.ylabel('Shannon Index')\n",
    "plt.legend()"
   ]
  },
  {
   "cell_type": "markdown",
   "metadata": {},
   "source": [
    "Print out"
   ]
  },
  {
   "cell_type": "markdown",
   "metadata": {},
   "source": [
    "**Note:** the reported times are:\n",
    "- end of burn in, year #0 (#10 if not calibrated)\n",
    "- year #2.5 ✓\n",
    "- year #5\n",
    "- year #7.5 ✓\n",
    "- year #10\n",
    "- year #12.5 ✓\n",
    "- year #15\n",
    "- year #17.5 ✓\n",
    "- year #20"
   ]
  },
  {
   "cell_type": "code",
   "execution_count": 7,
   "metadata": {},
   "outputs": [
    {
     "name": "stdout",
     "output_type": "stream",
     "text": [
      "---MFT---\n",
      "0.6896578300955778\n",
      "0.7690500229863549\n",
      "0.845121818957915\n",
      "0.9535949030107521\n",
      "1.0869606931254459\n",
      "1.2095830335959645\n",
      "1.3872586547237806\n",
      "1.6195774628896014\n"
     ]
    },
    {
     "name": "stderr",
     "output_type": "stream",
     "text": [
      "<ipython-input-3-7c45e5438851>:2: RuntimeWarning: divide by zero encountered in log\n",
      "  log = np.log(nparray)\n"
     ]
    }
   ],
   "source": [
    "print('---MFT---')\n",
    "for i in range(120,360,30):\n",
    "  print(calcl_si_val(m7.iloc[i,:].values))"
   ]
  },
  {
   "cell_type": "code",
   "execution_count": 8,
   "metadata": {
    "scrolled": true
   },
   "outputs": [
    {
     "name": "stdout",
     "output_type": "stream",
     "text": [
      "---Cyc---\n",
      "0.6876487190042615\n",
      "0.8415180730975254\n",
      "1.105388148046774\n",
      "1.119614827427986\n",
      "1.1112047879898503\n",
      "1.2028179354152693\n",
      "1.2648277372694614\n",
      "1.6662205267778158\n"
     ]
    },
    {
     "name": "stderr",
     "output_type": "stream",
     "text": [
      "<ipython-input-3-7c45e5438851>:2: RuntimeWarning: divide by zero encountered in log\n",
      "  log = np.log(nparray)\n"
     ]
    }
   ],
   "source": [
    "print('---Cyc---')\n",
    "for i in range(120,360,30):\n",
    "  print(calcl_si_val(c7.iloc[i,:].values))"
   ]
  },
  {
   "cell_type": "code",
   "execution_count": 9,
   "metadata": {},
   "outputs": [
    {
     "name": "stdout",
     "output_type": "stream",
     "text": [
      "---Cyc Reversed---\n",
      "0.6850958095214787\n",
      "0.7188652741070309\n",
      "0.7343761155818735\n",
      "0.7849917947743339\n",
      "0.8140964729128505\n",
      "1.017645728191027\n",
      "1.346493764923885\n",
      "1.4218678194755354\n"
     ]
    },
    {
     "name": "stderr",
     "output_type": "stream",
     "text": [
      "<ipython-input-3-7c45e5438851>:2: RuntimeWarning: divide by zero encountered in log\n",
      "  log = np.log(nparray)\n"
     ]
    }
   ],
   "source": [
    "print('---Cyc Reversed---')\n",
    "for i in range(120,360,30):\n",
    "  print(calcl_si_val(cr7.iloc[i,:].values))"
   ]
  },
  {
   "cell_type": "code",
   "execution_count": null,
   "metadata": {},
   "outputs": [],
   "source": []
  }
 ],
 "metadata": {
  "kernelspec": {
   "display_name": "Python 3",
   "language": "python",
   "name": "python3"
  },
  "language_info": {
   "codemirror_mode": {
    "name": "ipython",
    "version": 3
   },
   "file_extension": ".py",
   "mimetype": "text/x-python",
   "name": "python",
   "nbconvert_exporter": "python",
   "pygments_lexer": "ipython3",
   "version": "3.8.5"
  }
 },
 "nbformat": 4,
 "nbformat_minor": 4
}
